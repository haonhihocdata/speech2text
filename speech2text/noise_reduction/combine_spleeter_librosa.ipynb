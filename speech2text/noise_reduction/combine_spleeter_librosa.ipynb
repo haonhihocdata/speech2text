{
 "cells": [
  {
   "cell_type": "code",
   "execution_count": 13,
   "metadata": {},
   "outputs": [],
   "source": [
    "from IPython.display import Audio\n",
    "import shutil\n",
    "import os\n",
    "import time\n",
    "import librosa\n",
    "from pydub import AudioSegment\n",
    "import numpy as np\n",
    "import soundfile as sf"
   ]
  },
  {
   "cell_type": "code",
   "execution_count": 14,
   "metadata": {},
   "outputs": [
    {
     "name": "stdout",
     "output_type": "stream",
     "text": [
      "INFO:spleeter:File output\\initial_input/accompaniment.wav written succesfully\n",
      "INFO:spleeter:File output\\initial_input/vocals.wav written succesfully\n"
     ]
    }
   ],
   "source": [
    "start_time1 = time.time()\n",
    "\n",
    "# Tách các tệp âm thanh bằng mô hình được đào tạo trước\n",
    "!spleeter separate -o output ./input/initial_input.wav\n",
    "\n",
    "end_time1 = time.time()\n",
    "processing_time1 = end_time1 - start_time1"
   ]
  },
  {
   "cell_type": "code",
   "execution_count": 15,
   "metadata": {},
   "outputs": [],
   "source": [
    "# Đổi tền, điều chỉnh đường dẫn file output\n",
    "if os.path.exists(\"output/initial_input/accompaniment.wav\"):\n",
    "    os.remove(\"output/initial_input/accompaniment.wav\")\n",
    "\n",
    "if os.path.exists(\"output/initial_input/vocals.wav\"):\n",
    "    old_path = \"output/initial_input/vocals.wav\"\n",
    "    new_path = \"output/sp_output.wav\"\n",
    "    shutil.move(old_path, new_path)\n",
    "\n",
    "if os.path.exists(\"output/initial_input\"):\n",
    "    shutil.rmtree(\"output/initial_input\")"
   ]
  },
  {
   "cell_type": "code",
   "execution_count": 16,
   "metadata": {},
   "outputs": [],
   "source": [
    "\n",
    "start_time2 = time.time()\n",
    "\n",
    "# Tải file âm thanh\n",
    "y, sr = librosa.load('./input/sp_input.wav', duration=200)\n",
    "\n",
    "# Tính toán Spectrogram\n",
    "S_full, phase = librosa.magphase(librosa.stft(y))\n",
    "\n",
    "# Giảm tiếng ồn\n",
    "S_filter = librosa.decompose.nn_filter(S_full,\n",
    "                                       aggregate=np.median,\n",
    "                                       metric='cosine',\n",
    "                                       width=int(librosa.time_to_frames(2, sr=sr)))\n",
    "\n",
    "S_filter = np.minimum(S_full, S_filter)\n",
    "\n",
    "# Áp dụng Mask\n",
    "width = int(librosa.time_to_frames(5, sr=sr)) \n",
    "margin_i, margin_v = 1, 10\n",
    "power = 1\n",
    "\n",
    "mask_i = librosa.util.softmask(S_filter,\n",
    "                               margin_i * (S_full - S_filter),\n",
    "                               power=power)\n",
    "\n",
    "mask_v = librosa.util.softmask(S_full - S_filter,\n",
    "                               margin_v * S_filter,\n",
    "                               power=power)\n",
    "\n",
    "# Tách foreground và background\n",
    "S_foreground = mask_v * S_full\n",
    "S_background = mask_i * S_full\n",
    "\n",
    "# Nghịch đảo STFT và Tái tạo\n",
    "y_foreground = librosa.istft(S_foreground * phase)\n",
    "\n",
    "end_time2 = time.time()\n",
    "processing_time2 = end_time2 - start_time2\n"
   ]
  },
  {
   "cell_type": "code",
   "execution_count": 17,
   "metadata": {},
   "outputs": [
    {
     "name": "stdout",
     "output_type": "stream",
     "text": [
      "Tỉ lệ sạch (Librosa): 66.96%\n",
      "Thời gian xử lý: 11.06 giây\n"
     ]
    }
   ],
   "source": [
    "\n",
    "sf.write('./output/combine_output.wav', y_foreground, samplerate=sr)\n",
    "\n",
    "# Tính tỉ lệ sạch của file âm thanh\n",
    "# Tải file âm thanh ban đầu và file giảm ồn\n",
    "original_audio, sr_original = librosa.load('./input/initial_input.wav', duration=200)\n",
    "reduced_noise_audio, sr_reduced = librosa.load('./output/combine_output.wav', duration=200)\n",
    "\n",
    "# Đảm bảo rằng cả hai tín hiệu có cùng độ dài\n",
    "min_length = min(len(original_audio), len(reduced_noise_audio))\n",
    "original_audio = original_audio[:min_length]\n",
    "reduced_noise_audio = reduced_noise_audio[:min_length]\n",
    "\n",
    "# Tính tỉ lệ năng lượng của tín hiệu giảm ồn và tín hiệu nền\n",
    "energy_foreground = np.sum(reduced_noise_audio**2)\n",
    "energy_background = np.sum((original_audio - reduced_noise_audio)**2)\n",
    "\n",
    "# Tính tỉ lệ tương phản\n",
    "cleanliness_ratio_librosa = energy_foreground / (energy_foreground + energy_background)\n",
    "\n",
    "print(f\"Tỉ lệ sạch (Librosa): {cleanliness_ratio_librosa:.2%}\")\n",
    "print(f\"Thời gian xử lý: {processing_time1 + processing_time2:.2f} giây\")"
   ]
  }
 ],
 "metadata": {
  "kernelspec": {
   "display_name": "Python 3 (ipykernel)",
   "language": "python",
   "name": "python3"
  },
  "language_info": {
   "codemirror_mode": {
    "name": "ipython",
    "version": 3
   },
   "file_extension": ".py",
   "mimetype": "text/x-python",
   "name": "python",
   "nbconvert_exporter": "python",
   "pygments_lexer": "ipython3",
   "version": "3.9.18"
  }
 },
 "nbformat": 4,
 "nbformat_minor": 2
}
