{
 "cells": [
  {
   "cell_type": "code",
   "execution_count": 1,
   "metadata": {},
   "outputs": [],
   "source": [
    "from IPython.display import Audio\n",
    "import shutil\n",
    "import os\n",
    "import time\n",
    "import librosa\n",
    "from pydub import AudioSegment\n",
    "import numpy as np\n",
    "import soundfile as sf"
   ]
  },
  {
   "cell_type": "code",
   "execution_count": 2,
   "metadata": {},
   "outputs": [
    {
     "name": "stdout",
     "output_type": "stream",
     "text": [
      "INFO:spleeter:File output\\initial_input/vocals.wav written succesfully\n",
      "INFO:spleeter:File output\\initial_input/accompaniment.wav written succesfully\n"
     ]
    }
   ],
   "source": [
    "start_time = time.time()\n",
    "\n",
    "# Tách các tệp âm thanh bằng mô hình được đào tạo trước\n",
    "!spleeter separate -o output ./input/initial_input.wav\n",
    "\n",
    "end_time = time.time()\n",
    "processing_time = end_time - start_time"
   ]
  },
  {
   "cell_type": "code",
   "execution_count": 3,
   "metadata": {},
   "outputs": [],
   "source": [
    "# Đổi tền, điều chỉnh đường dẫn file output\n",
    "if os.path.exists(\"output/initial_input/accompaniment.wav\"):\n",
    "    os.remove(\"output/initial_input/accompaniment.wav\")\n",
    "\n",
    "if os.path.exists(\"output/initial_input/vocals.wav\"):\n",
    "    old_path = \"output/initial_input/vocals.wav\"\n",
    "    new_path = \"output/sp_output.wav\"\n",
    "    shutil.move(old_path, new_path)\n",
    "\n",
    "if os.path.exists(\"output/initial_input\"):\n",
    "    shutil.rmtree(\"output/initial_input\")"
   ]
  },
  {
   "cell_type": "code",
   "execution_count": 4,
   "metadata": {},
   "outputs": [],
   "source": [
    "# Đổi tền, điều chỉnh đường dẫn file output\n",
    "if os.path.exists(\"output/lib_input/accompaniment.wav\"):\n",
    "    os.remove(\"output/lib_input/accompaniment.wav\")\n",
    "\n",
    "if os.path.exists(\"output/lib_input/vocals.wav\"):\n",
    "    old_path = \"output/lib_input/vocals.wav\"\n",
    "    new_path = \"output/spleeter_output2.wav\"\n",
    "    shutil.move(old_path, new_path)\n",
    "\n",
    "if os.path.exists(\"output/lib_input\"):\n",
    "    shutil.rmtree(\"output/lib_input\")"
   ]
  },
  {
   "cell_type": "code",
   "execution_count": 6,
   "metadata": {},
   "outputs": [
    {
     "name": "stdout",
     "output_type": "stream",
     "text": [
      "Tỉ lệ sạch (Spleeter): 52.58%\n"
     ]
    }
   ],
   "source": [
    "# Tải file âm thanh ban đầu và file giảm ồn\n",
    "original_audio, sr_original = librosa.load('./input/initial_input.wav', duration=200)\n",
    "reduced_noise_audio, sr_reduced = librosa.load('./output/sp_output.wav', duration=200)\n",
    "\n",
    "# Tính tỉ lệ năng lượng của tín hiệu giọng hát và tín hiệu nền\n",
    "energy_vocals = np.sum(original_audio**2)\n",
    "energy_accompaniment = np.sum(reduced_noise_audio**2)\n",
    "\n",
    "# Tính tỉ lệ tương phản\n",
    "cleanliness_ratio_spleeter = energy_vocals / (energy_vocals + energy_accompaniment)\n",
    "\n",
    "print(f\"Tỉ lệ sạch (Spleeter): {cleanliness_ratio_spleeter:.2%}\")\n"
   ]
  },
  {
   "cell_type": "code",
   "execution_count": 7,
   "metadata": {},
   "outputs": [
    {
     "name": "stdout",
     "output_type": "stream",
     "text": [
      "Thời gian xử lý: 22.01 giây\n"
     ]
    }
   ],
   "source": [
    "print(f\"Thời gian xử lý: {processing_time:.2f} giây\")"
   ]
  },
  {
   "cell_type": "code",
   "execution_count": null,
   "metadata": {},
   "outputs": [],
   "source": []
  }
 ],
 "metadata": {
  "kernelspec": {
   "display_name": "Python 3 (ipykernel)",
   "language": "python",
   "name": "python3"
  },
  "language_info": {
   "codemirror_mode": {
    "name": "ipython",
    "version": 3
   },
   "file_extension": ".py",
   "mimetype": "text/x-python",
   "name": "python",
   "nbconvert_exporter": "python",
   "pygments_lexer": "ipython3",
   "version": "3.9.18"
  }
 },
 "nbformat": 4,
 "nbformat_minor": 2
}
